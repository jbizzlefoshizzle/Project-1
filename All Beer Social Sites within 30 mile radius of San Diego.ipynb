{
 "cells": [
  {
   "cell_type": "code",
   "execution_count": 5,
   "metadata": {},
   "outputs": [],
   "source": [
    "from brewerydb import *\n",
    "from config import api_key\n",
    "import requests"
   ]
  },
  {
   "cell_type": "code",
   "execution_count": 6,
   "metadata": {},
   "outputs": [],
   "source": [
    "BreweryDb.configure(api_key, DEFAULT_BASE_URI)"
   ]
  },
  {
   "cell_type": "code",
   "execution_count": 7,
   "metadata": {},
   "outputs": [],
   "source": [
    "sd_social = BreweryDb.socialsites({'geo':1,\n",
    "                         'lat':32.7157,\n",
    "                         'lng':117.1611,\n",
    "                         'radius':30,\n",
    "                         'units':'m'})"
   ]
  },
  {
   "cell_type": "code",
   "execution_count": 11,
   "metadata": {},
   "outputs": [
    {
     "name": "stdout",
     "output_type": "stream",
     "text": [
      "Facebook Fan Page\n",
      "Twitter\n",
      "Foursquare\n",
      "Untappd\n",
      "RateBeer\n",
      "BeerAdvocate\n",
      "Google Plus\n",
      "Facebook Profile\n",
      "YouTube\n",
      "Feed\n",
      "Instagram\n"
     ]
    }
   ],
   "source": [
    "print(sd_social['data'][0]['name'])\n",
    "print(sd_social['data'][1]['name'])\n",
    "print(sd_social['data'][2]['name'])\n",
    "print(sd_social['data'][3]['name'])\n",
    "print(sd_social['data'][4]['name'])\n",
    "print(sd_social['data'][5]['name'])\n",
    "print(sd_social['data'][6]['name'])\n",
    "print(sd_social['data'][7]['name'])\n",
    "print(sd_social['data'][8]['name'])\n",
    "print(sd_social['data'][9]['name'])\n",
    "print(sd_social['data'][10]['name'])\n"
   ]
  },
  {
   "cell_type": "code",
   "execution_count": null,
   "metadata": {},
   "outputs": [],
   "source": []
  },
  {
   "cell_type": "code",
   "execution_count": null,
   "metadata": {},
   "outputs": [],
   "source": []
  }
 ],
 "metadata": {
  "kernelspec": {
   "display_name": "Python [conda env:PythonData2] *",
   "language": "python",
   "name": "conda-env-PythonData2-py"
  },
  "language_info": {
   "codemirror_mode": {
    "name": "ipython",
    "version": 3
   },
   "file_extension": ".py",
   "mimetype": "text/x-python",
   "name": "python",
   "nbconvert_exporter": "python",
   "pygments_lexer": "ipython3",
   "version": "3.6.8"
  }
 },
 "nbformat": 4,
 "nbformat_minor": 2
}
