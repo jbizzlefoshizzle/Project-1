{
 "cells": [
  {
   "cell_type": "code",
   "execution_count": 2,
   "metadata": {},
   "outputs": [],
   "source": [
    "from brewerydb import *\n",
    "from config import api_key\n",
    "import requests\n",
    "import pandas as pd"
   ]
  },
  {
   "cell_type": "code",
   "execution_count": 3,
   "metadata": {},
   "outputs": [],
   "source": [
    "BreweryDb.configure(api_key, DEFAULT_BASE_URI)"
   ]
  },
  {
   "cell_type": "code",
   "execution_count": 5,
   "metadata": {},
   "outputs": [],
   "source": [
    "sd_social = BreweryDb.socialsites({'geo':1,\n",
    "                         'lat':32.7157,\n",
    "                         'lng':117.1611,\n",
    "                         'radius':30,\n",
    "                         'units':'m'})"
   ]
  },
  {
   "cell_type": "code",
   "execution_count": 13,
   "metadata": {},
   "outputs": [
    {
     "name": "stdout",
     "output_type": "stream",
     "text": [
      " printing social media pltaform # 0 within 30 mile radius of SD\n",
      " printing social media pltaform # 1 within 30 mile radius of SD\n",
      " printing social media pltaform # 2 within 30 mile radius of SD\n",
      " printing social media pltaform # 3 within 30 mile radius of SD\n",
      " printing social media pltaform # 4 within 30 mile radius of SD\n",
      " printing social media pltaform # 5 within 30 mile radius of SD\n",
      " printing social media pltaform # 6 within 30 mile radius of SD\n",
      " printing social media pltaform # 7 within 30 mile radius of SD\n",
      " printing social media pltaform # 8 within 30 mile radius of SD\n",
      " printing social media pltaform # 9 within 30 mile radius of SD\n",
      " printing social media pltaform # 10 within 30 mile radius of SD\n",
      " printing social media pltaform # 11 within 30 mile radius of SD\n"
     ]
    }
   ],
   "source": [
    "# looping through the API and appending social media sites to a list\n",
    "social_media =[]\n",
    "for y in range(len(sd_social[\"data\"])):\n",
    "    print(f\" printing social media pltaform # {y} within 30 mile radius of SD\")\n",
    "\n",
    "\n",
    "    social_media.append(sd_social['data'][y]['name'])"
   ]
  },
  {
   "cell_type": "code",
   "execution_count": 7,
   "metadata": {},
   "outputs": [
    {
     "data": {
      "text/plain": [
       "['Facebook Fan Page',\n",
       " 'Twitter',\n",
       " 'Foursquare',\n",
       " 'Untappd',\n",
       " 'RateBeer',\n",
       " 'BeerAdvocate',\n",
       " 'Google Plus',\n",
       " 'Facebook Profile',\n",
       " 'YouTube',\n",
       " 'Feed',\n",
       " 'Instagram',\n",
       " 'Pinterest']"
      ]
     },
     "execution_count": 7,
     "metadata": {},
     "output_type": "execute_result"
    }
   ],
   "source": [
    "#Viewing list contents\n",
    "social_media"
   ]
  },
  {
   "cell_type": "code",
   "execution_count": 12,
   "metadata": {},
   "outputs": [
    {
     "data": {
      "text/html": [
       "<div>\n",
       "<style scoped>\n",
       "    .dataframe tbody tr th:only-of-type {\n",
       "        vertical-align: middle;\n",
       "    }\n",
       "\n",
       "    .dataframe tbody tr th {\n",
       "        vertical-align: top;\n",
       "    }\n",
       "\n",
       "    .dataframe thead th {\n",
       "        text-align: right;\n",
       "    }\n",
       "</style>\n",
       "<table border=\"1\" class=\"dataframe\">\n",
       "  <thead>\n",
       "    <tr style=\"text-align: right;\">\n",
       "      <th></th>\n",
       "      <th>Social Media</th>\n",
       "    </tr>\n",
       "  </thead>\n",
       "  <tbody>\n",
       "    <tr>\n",
       "      <th>0</th>\n",
       "      <td>Facebook Fan Page</td>\n",
       "    </tr>\n",
       "    <tr>\n",
       "      <th>1</th>\n",
       "      <td>Twitter</td>\n",
       "    </tr>\n",
       "    <tr>\n",
       "      <th>2</th>\n",
       "      <td>Foursquare</td>\n",
       "    </tr>\n",
       "    <tr>\n",
       "      <th>3</th>\n",
       "      <td>Untappd</td>\n",
       "    </tr>\n",
       "    <tr>\n",
       "      <th>4</th>\n",
       "      <td>RateBeer</td>\n",
       "    </tr>\n",
       "    <tr>\n",
       "      <th>5</th>\n",
       "      <td>BeerAdvocate</td>\n",
       "    </tr>\n",
       "    <tr>\n",
       "      <th>6</th>\n",
       "      <td>Google Plus</td>\n",
       "    </tr>\n",
       "    <tr>\n",
       "      <th>7</th>\n",
       "      <td>Facebook Profile</td>\n",
       "    </tr>\n",
       "    <tr>\n",
       "      <th>8</th>\n",
       "      <td>YouTube</td>\n",
       "    </tr>\n",
       "    <tr>\n",
       "      <th>9</th>\n",
       "      <td>Feed</td>\n",
       "    </tr>\n",
       "    <tr>\n",
       "      <th>10</th>\n",
       "      <td>Instagram</td>\n",
       "    </tr>\n",
       "    <tr>\n",
       "      <th>11</th>\n",
       "      <td>Pinterest</td>\n",
       "    </tr>\n",
       "  </tbody>\n",
       "</table>\n",
       "</div>"
      ],
      "text/plain": [
       "         Social Media\n",
       "0   Facebook Fan Page\n",
       "1             Twitter\n",
       "2          Foursquare\n",
       "3             Untappd\n",
       "4            RateBeer\n",
       "5        BeerAdvocate\n",
       "6         Google Plus\n",
       "7    Facebook Profile\n",
       "8             YouTube\n",
       "9                Feed\n",
       "10          Instagram\n",
       "11          Pinterest"
      ]
     },
     "execution_count": 12,
     "metadata": {},
     "output_type": "execute_result"
    }
   ],
   "source": [
    "# Converting list to DataFrame\n",
    "social_media_df = pd.DataFrame(social_media, columns=[\"Social Media\"])\n",
    "social_media_df"
   ]
  },
  {
   "cell_type": "code",
   "execution_count": null,
   "metadata": {},
   "outputs": [],
   "source": []
  }
 ],
 "metadata": {
  "kernelspec": {
   "display_name": "Python 3",
   "language": "python",
   "name": "python3"
  },
  "language_info": {
   "codemirror_mode": {
    "name": "ipython",
    "version": 3
   },
   "file_extension": ".py",
   "mimetype": "text/x-python",
   "name": "python",
   "nbconvert_exporter": "python",
   "pygments_lexer": "ipython3",
   "version": "3.6.8"
  }
 },
 "nbformat": 4,
 "nbformat_minor": 2
}
