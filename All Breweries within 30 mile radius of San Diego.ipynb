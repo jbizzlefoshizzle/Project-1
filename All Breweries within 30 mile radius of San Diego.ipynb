{
 "cells": [
  {
   "cell_type": "code",
   "execution_count": 12,
   "metadata": {},
   "outputs": [],
   "source": [
    "from brewerydb import *\n",
    "from config import api_key\n",
    "import requests\n",
    "import numpy as np"
   ]
  },
  {
   "cell_type": "code",
   "execution_count": 13,
   "metadata": {},
   "outputs": [],
   "source": [
    "BreweryDb.configure(api_key, DEFAULT_BASE_URI)"
   ]
  },
  {
   "cell_type": "code",
   "execution_count": 25,
   "metadata": {},
   "outputs": [],
   "source": [
    "aa = BreweryDb.breweries({'geo':1,\n",
    "                         'lat':32.7157,\n",
    "                         'lng':117.1611,\n",
    "                         'radius':30,\n",
    "                         'units':'m'})"
   ]
  },
  {
   "cell_type": "code",
   "execution_count": 21,
   "metadata": {},
   "outputs": [],
   "source": []
  },
  {
   "cell_type": "code",
   "execution_count": 26,
   "metadata": {},
   "outputs": [
    {
     "name": "stdout",
     "output_type": "stream",
     "text": [
      " printing brewery #0 within 30 mile radius of SD\n",
      " printing brewery #1 within 30 mile radius of SD\n",
      " printing brewery #2 within 30 mile radius of SD\n",
      " printing brewery #3 within 30 mile radius of SD\n",
      " printing brewery #4 within 30 mile radius of SD\n",
      " printing brewery #5 within 30 mile radius of SD\n",
      " printing brewery #6 within 30 mile radius of SD\n",
      " printing brewery #7 within 30 mile radius of SD\n",
      " printing brewery #8 within 30 mile radius of SD\n",
      " printing brewery #9 within 30 mile radius of SD\n",
      " printing brewery #10 within 30 mile radius of SD\n",
      " printing brewery #11 within 30 mile radius of SD\n",
      " printing brewery #12 within 30 mile radius of SD\n",
      " printing brewery #13 within 30 mile radius of SD\n",
      " printing brewery #14 within 30 mile radius of SD\n",
      " printing brewery #15 within 30 mile radius of SD\n",
      " printing brewery #16 within 30 mile radius of SD\n",
      " printing brewery #17 within 30 mile radius of SD\n",
      " printing brewery #18 within 30 mile radius of SD\n"
     ]
    }
   ],
   "source": [
    "name =[]\n",
    "for y in np.arange(0,19):\n",
    "    print(f\" printing brewery #{y} within 30 mile radius of SD\")\n",
    "\n",
    "    aa = BreweryDb.breweries({'geo':1,\n",
    "                         'lat':32.7157,\n",
    "                         'lng':117.1611,\n",
    "                         'radius':30,\n",
    "                         'units':'m'})\n",
    "    name.append(aa['data'][y]['name'])   "
   ]
  },
  {
   "cell_type": "code",
   "execution_count": 24,
   "metadata": {},
   "outputs": [
    {
     "data": {
      "text/plain": [
       "['Anheuser-Busch InBev',\n",
       " 'Boston Beer Company (Samuel Adams)',\n",
       " 'Breckenridge Brewery',\n",
       " 'Brouwerij De Leite',\n",
       " 'Dock Street Brewery',\n",
       " 'Guinness',\n",
       " 'Harmon Brewing Company',\n",
       " 'Jackalope Brewing Company',\n",
       " 'Lagunitas Brewing Company',\n",
       " 'Last Name Brewing',\n",
       " 'Laughing Dog Brewing',\n",
       " 'Miller Brewing Company',\n",
       " 'New Holland Brewing Company',\n",
       " 'Oskar Blues Brewery',\n",
       " 'Portsmouth Brewery',\n",
       " 'Sierra Nevada Brewing Company',\n",
       " 'SweetWater Brewing Company',\n",
       " 'Wachusett Brewing Company',\n",
       " 'Zero Gravity Craft Brewery']"
      ]
     },
     "execution_count": 24,
     "metadata": {},
     "output_type": "execute_result"
    }
   ],
   "source": [
    "name"
   ]
  },
  {
   "cell_type": "code",
   "execution_count": null,
   "metadata": {},
   "outputs": [],
   "source": []
  },
  {
   "cell_type": "code",
   "execution_count": null,
   "metadata": {},
   "outputs": [],
   "source": []
  },
  {
   "cell_type": "code",
   "execution_count": null,
   "metadata": {},
   "outputs": [],
   "source": []
  }
 ],
 "metadata": {
  "kernelspec": {
   "display_name": "Python 3",
   "language": "python",
   "name": "python3"
  },
  "language_info": {
   "codemirror_mode": {
    "name": "ipython",
    "version": 3
   },
   "file_extension": ".py",
   "mimetype": "text/x-python",
   "name": "python",
   "nbconvert_exporter": "python",
   "pygments_lexer": "ipython3",
   "version": "3.6.8"
  }
 },
 "nbformat": 4,
 "nbformat_minor": 2
}
