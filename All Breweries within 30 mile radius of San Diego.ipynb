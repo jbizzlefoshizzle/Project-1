{
 "cells": [
  {
   "cell_type": "code",
   "execution_count": 2,
   "metadata": {},
   "outputs": [],
   "source": [
    "from brewerydb import *\n",
    "from config import api_key\n",
    "import requests\n",
    "import numpy as np\n",
    "import pandas as pd"
   ]
  },
  {
   "cell_type": "code",
   "execution_count": 3,
   "metadata": {},
   "outputs": [],
   "source": [
    "BreweryDb.configure(api_key, DEFAULT_BASE_URI)"
   ]
  },
  {
   "cell_type": "code",
   "execution_count": 4,
   "metadata": {},
   "outputs": [],
   "source": [
    "aa = BreweryDb.breweries({'geo':1,\n",
    "                         'lat':32.7157,\n",
    "                         'lng':117.1611,\n",
    "                         'radius':30,\n",
    "                         'units':'m'})"
   ]
  },
  {
   "cell_type": "code",
   "execution_count": null,
   "metadata": {},
   "outputs": [],
   "source": []
  },
  {
   "cell_type": "code",
   "execution_count": 6,
   "metadata": {},
   "outputs": [
    {
     "name": "stdout",
     "output_type": "stream",
     "text": [
      " printing brewery index # 0 within 30 mile radius of SD\n",
      " printing brewery index # 1 within 30 mile radius of SD\n",
      " printing brewery index # 2 within 30 mile radius of SD\n",
      " printing brewery index # 3 within 30 mile radius of SD\n",
      " printing brewery index # 4 within 30 mile radius of SD\n",
      " printing brewery index # 5 within 30 mile radius of SD\n",
      " printing brewery index # 6 within 30 mile radius of SD\n",
      " printing brewery index # 7 within 30 mile radius of SD\n",
      " printing brewery index # 8 within 30 mile radius of SD\n",
      " printing brewery index # 9 within 30 mile radius of SD\n",
      " printing brewery index # 10 within 30 mile radius of SD\n",
      " printing brewery index # 11 within 30 mile radius of SD\n",
      " printing brewery index # 12 within 30 mile radius of SD\n",
      " printing brewery index # 13 within 30 mile radius of SD\n",
      " printing brewery index # 14 within 30 mile radius of SD\n",
      " printing brewery index # 15 within 30 mile radius of SD\n",
      " printing brewery index # 16 within 30 mile radius of SD\n",
      " printing brewery index # 17 within 30 mile radius of SD\n",
      " printing brewery index # 18 within 30 mile radius of SD\n"
     ]
    }
   ],
   "source": [
    "# looping through API call and appending beer names to list\n",
    "beer_names =[]\n",
    "for y in range(len(aa[\"data\"])):\n",
    "    print(f\" printing brewery index # {y} within 30 mile radius of SD\")\n",
    "    \n",
    "\n",
    "    beer_names.append(aa['data'][y]['name'])"
   ]
  },
  {
   "cell_type": "code",
   "execution_count": 24,
   "metadata": {},
   "outputs": [
    {
     "data": {
      "text/plain": [
       "['Anheuser-Busch InBev',\n",
       " 'Boston Beer Company (Samuel Adams)',\n",
       " 'Breckenridge Brewery',\n",
       " 'Brouwerij De Leite',\n",
       " 'Dock Street Brewery',\n",
       " 'Guinness',\n",
       " 'Harmon Brewing Company',\n",
       " 'Jackalope Brewing Company',\n",
       " 'Lagunitas Brewing Company',\n",
       " 'Last Name Brewing',\n",
       " 'Laughing Dog Brewing',\n",
       " 'Miller Brewing Company',\n",
       " 'New Holland Brewing Company',\n",
       " 'Oskar Blues Brewery',\n",
       " 'Portsmouth Brewery',\n",
       " 'Sierra Nevada Brewing Company',\n",
       " 'SweetWater Brewing Company',\n",
       " 'Wachusett Brewing Company',\n",
       " 'Zero Gravity Craft Brewery']"
      ]
     },
     "execution_count": 24,
     "metadata": {},
     "output_type": "execute_result"
    }
   ],
   "source": [
    "#Viewing contents of list\n",
    "beer_names"
   ]
  },
  {
   "cell_type": "code",
   "execution_count": 25,
   "metadata": {},
   "outputs": [],
   "source": [
    "#converting lis to DataFrame\n",
    "beer_names_df = pd.DataFrame(beer_names, columns=[\"Beer Names\"])"
   ]
  },
  {
   "cell_type": "code",
   "execution_count": 26,
   "metadata": {},
   "outputs": [
    {
     "data": {
      "text/html": [
       "<div>\n",
       "<style scoped>\n",
       "    .dataframe tbody tr th:only-of-type {\n",
       "        vertical-align: middle;\n",
       "    }\n",
       "\n",
       "    .dataframe tbody tr th {\n",
       "        vertical-align: top;\n",
       "    }\n",
       "\n",
       "    .dataframe thead th {\n",
       "        text-align: right;\n",
       "    }\n",
       "</style>\n",
       "<table border=\"1\" class=\"dataframe\">\n",
       "  <thead>\n",
       "    <tr style=\"text-align: right;\">\n",
       "      <th></th>\n",
       "      <th>Beer Names</th>\n",
       "    </tr>\n",
       "  </thead>\n",
       "  <tbody>\n",
       "    <tr>\n",
       "      <th>0</th>\n",
       "      <td>Anheuser-Busch InBev</td>\n",
       "    </tr>\n",
       "    <tr>\n",
       "      <th>1</th>\n",
       "      <td>Boston Beer Company (Samuel Adams)</td>\n",
       "    </tr>\n",
       "    <tr>\n",
       "      <th>2</th>\n",
       "      <td>Breckenridge Brewery</td>\n",
       "    </tr>\n",
       "    <tr>\n",
       "      <th>3</th>\n",
       "      <td>Brouwerij De Leite</td>\n",
       "    </tr>\n",
       "    <tr>\n",
       "      <th>4</th>\n",
       "      <td>Dock Street Brewery</td>\n",
       "    </tr>\n",
       "    <tr>\n",
       "      <th>5</th>\n",
       "      <td>Guinness</td>\n",
       "    </tr>\n",
       "    <tr>\n",
       "      <th>6</th>\n",
       "      <td>Harmon Brewing Company</td>\n",
       "    </tr>\n",
       "    <tr>\n",
       "      <th>7</th>\n",
       "      <td>Jackalope Brewing Company</td>\n",
       "    </tr>\n",
       "    <tr>\n",
       "      <th>8</th>\n",
       "      <td>Lagunitas Brewing Company</td>\n",
       "    </tr>\n",
       "    <tr>\n",
       "      <th>9</th>\n",
       "      <td>Last Name Brewing</td>\n",
       "    </tr>\n",
       "    <tr>\n",
       "      <th>10</th>\n",
       "      <td>Laughing Dog Brewing</td>\n",
       "    </tr>\n",
       "    <tr>\n",
       "      <th>11</th>\n",
       "      <td>Miller Brewing Company</td>\n",
       "    </tr>\n",
       "    <tr>\n",
       "      <th>12</th>\n",
       "      <td>New Holland Brewing Company</td>\n",
       "    </tr>\n",
       "    <tr>\n",
       "      <th>13</th>\n",
       "      <td>Oskar Blues Brewery</td>\n",
       "    </tr>\n",
       "    <tr>\n",
       "      <th>14</th>\n",
       "      <td>Portsmouth Brewery</td>\n",
       "    </tr>\n",
       "    <tr>\n",
       "      <th>15</th>\n",
       "      <td>Sierra Nevada Brewing Company</td>\n",
       "    </tr>\n",
       "    <tr>\n",
       "      <th>16</th>\n",
       "      <td>SweetWater Brewing Company</td>\n",
       "    </tr>\n",
       "    <tr>\n",
       "      <th>17</th>\n",
       "      <td>Wachusett Brewing Company</td>\n",
       "    </tr>\n",
       "    <tr>\n",
       "      <th>18</th>\n",
       "      <td>Zero Gravity Craft Brewery</td>\n",
       "    </tr>\n",
       "  </tbody>\n",
       "</table>\n",
       "</div>"
      ],
      "text/plain": [
       "                            Beer Names\n",
       "0                 Anheuser-Busch InBev\n",
       "1   Boston Beer Company (Samuel Adams)\n",
       "2                 Breckenridge Brewery\n",
       "3                   Brouwerij De Leite\n",
       "4                  Dock Street Brewery\n",
       "5                             Guinness\n",
       "6               Harmon Brewing Company\n",
       "7            Jackalope Brewing Company\n",
       "8            Lagunitas Brewing Company\n",
       "9                    Last Name Brewing\n",
       "10                Laughing Dog Brewing\n",
       "11              Miller Brewing Company\n",
       "12         New Holland Brewing Company\n",
       "13                 Oskar Blues Brewery\n",
       "14                  Portsmouth Brewery\n",
       "15       Sierra Nevada Brewing Company\n",
       "16          SweetWater Brewing Company\n",
       "17           Wachusett Brewing Company\n",
       "18          Zero Gravity Craft Brewery"
      ]
     },
     "execution_count": 26,
     "metadata": {},
     "output_type": "execute_result"
    }
   ],
   "source": [
    "#Viewing list contents\n",
    "beer_names_df"
   ]
  },
  {
   "cell_type": "code",
   "execution_count": null,
   "metadata": {},
   "outputs": [],
   "source": []
  },
  {
   "cell_type": "code",
   "execution_count": null,
   "metadata": {},
   "outputs": [],
   "source": []
  }
 ],
 "metadata": {
  "kernelspec": {
   "display_name": "Python 3",
   "language": "python",
   "name": "python3"
  },
  "language_info": {
   "codemirror_mode": {
    "name": "ipython",
    "version": 3
   },
   "file_extension": ".py",
   "mimetype": "text/x-python",
   "name": "python",
   "nbconvert_exporter": "python",
   "pygments_lexer": "ipython3",
   "version": "3.6.8"
  }
 },
 "nbformat": 4,
 "nbformat_minor": 2
}
