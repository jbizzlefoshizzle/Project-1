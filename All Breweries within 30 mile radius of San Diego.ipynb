{
 "cells": [
  {
   "cell_type": "code",
   "execution_count": 1,
   "metadata": {},
   "outputs": [],
   "source": [
    "from brewerydb import *\n",
    "from config import api_key\n",
    "import requests"
   ]
  },
  {
   "cell_type": "code",
   "execution_count": 2,
   "metadata": {},
   "outputs": [],
   "source": [
    "BreweryDb.configure(api_key, DEFAULT_BASE_URI)"
   ]
  },
  {
   "cell_type": "code",
   "execution_count": 5,
   "metadata": {},
   "outputs": [],
   "source": [
    "aa = BreweryDb.breweries({'geo':1,\n",
    "                         'lat':32.7157,\n",
    "                         'lng':117.1611,\n",
    "                         'radius':30,\n",
    "                         'units':'m'})"
   ]
  },
  {
   "cell_type": "code",
   "execution_count": 4,
   "metadata": {},
   "outputs": [
    {
     "name": "stdout",
     "output_type": "stream",
     "text": [
      "Anheuser-Busch InBev\n",
      "Boston Beer Company (Samuel Adams)\n",
      "Breckenridge Brewery\n",
      "Brouwerij De Leite\n",
      "Dock Street Brewery\n",
      "Guinness\n",
      "Harmon Brewing Company\n",
      "Jackalope Brewing Company\n",
      "Lagunitas Brewing Company\n",
      "Last Name Brewing\n",
      "Laughing Dog Brewing\n",
      "Miller Brewing Company\n",
      "New Holland Brewing Company\n",
      "Oskar Blues Brewery\n",
      "Portsmouth Brewery\n",
      "Sierra Nevada Brewing Company\n",
      "SweetWater Brewing Company\n",
      "Wachusett Brewing Company\n",
      "Zero Gravity Craft Brewery\n"
     ]
    }
   ],
   "source": [
    "print(aa['data'][0]['name'])\n",
    "print(aa['data'][1]['name'])\n",
    "print(aa['data'][2]['name'])\n",
    "print(aa['data'][3]['name'])\n",
    "print(aa['data'][4]['name'])\n",
    "print(aa['data'][5]['name'])\n",
    "print(aa['data'][6]['name'])\n",
    "print(aa['data'][7]['name'])\n",
    "print(aa['data'][8]['name'])\n",
    "print(aa['data'][9]['name'])\n",
    "print(aa['data'][10]['name'])\n",
    "print(aa['data'][11]['name'])\n",
    "print(aa['data'][12]['name'])\n",
    "print(aa['data'][13]['name'])\n",
    "print(aa['data'][14]['name'])\n",
    "print(aa['data'][15]['name'])\n",
    "print(aa['data'][16]['name'])\n",
    "print(aa['data'][17]['name'])\n",
    "print(aa['data'][18]['name'])"
   ]
  },
  {
   "cell_type": "code",
   "execution_count": null,
   "metadata": {},
   "outputs": [],
   "source": []
  }
 ],
 "metadata": {
  "kernelspec": {
   "display_name": "Python [conda env:PythonData2] *",
   "language": "python",
   "name": "conda-env-PythonData2-py"
  },
  "language_info": {
   "codemirror_mode": {
    "name": "ipython",
    "version": 3
   },
   "file_extension": ".py",
   "mimetype": "text/x-python",
   "name": "python",
   "nbconvert_exporter": "python",
   "pygments_lexer": "ipython3",
   "version": "3.6.8"
  }
 },
 "nbformat": 4,
 "nbformat_minor": 2
}
