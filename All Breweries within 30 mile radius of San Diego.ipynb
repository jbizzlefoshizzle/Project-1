{
 "cells": [
  {
   "cell_type": "code",
   "execution_count": 7,
   "metadata": {},
   "outputs": [],
   "source": [
    "from brewerydb import *\n",
    "from config import api_key\n",
    "import requests\n",
    "import numpy as np\n",
    "import pandas as pd"
   ]
  },
  {
   "cell_type": "code",
   "execution_count": 8,
   "metadata": {},
   "outputs": [],
   "source": [
    "BreweryDb.configure(api_key, DEFAULT_BASE_URI)"
   ]
  },
  {
   "cell_type": "code",
   "execution_count": 17,
   "metadata": {},
   "outputs": [],
   "source": [
    "aa = BreweryDb.breweries({'geo':1,\n",
    "                         'lat':32.7157,\n",
    "                         'lng':117.1611,\n",
    "                         'radius':30,\n",
    "                         'units':'m'})"
   ]
  },
  {
   "cell_type": "code",
   "execution_count": null,
   "metadata": {},
   "outputs": [],
   "source": []
  },
  {
   "cell_type": "code",
   "execution_count": 4,
   "metadata": {},
   "outputs": [
    {
     "name": "stdout",
     "output_type": "stream",
     "text": [
      " printing brewery index # 0 within 30 mile radius of SD\n",
      " printing brewery index # 1 within 30 mile radius of SD\n",
      " printing brewery index # 2 within 30 mile radius of SD\n",
      " printing brewery index # 3 within 30 mile radius of SD\n",
      " printing brewery index # 4 within 30 mile radius of SD\n",
      " printing brewery index # 5 within 30 mile radius of SD\n",
      " printing brewery index # 6 within 30 mile radius of SD\n",
      " printing brewery index # 7 within 30 mile radius of SD\n",
      " printing brewery index # 8 within 30 mile radius of SD\n",
      " printing brewery index # 9 within 30 mile radius of SD\n",
      " printing brewery index # 10 within 30 mile radius of SD\n",
      " printing brewery index # 11 within 30 mile radius of SD\n",
      " printing brewery index # 12 within 30 mile radius of SD\n",
      " printing brewery index # 13 within 30 mile radius of SD\n",
      " printing brewery index # 14 within 30 mile radius of SD\n",
      " printing brewery index # 15 within 30 mile radius of SD\n",
      " printing brewery index # 16 within 30 mile radius of SD\n",
      " printing brewery index # 17 within 30 mile radius of SD\n",
      " printing brewery index # 18 within 30 mile radius of SD\n"
     ]
    }
   ],
   "source": [
    "# looping through API call and appending beer names to list\n",
    "brewery_names =[]\n",
    "for y in range(len(aa[\"data\"])):\n",
    "    print(f\" printing brewery index # {y} within 30 mile radius of SD\")\n",
    "    \n",
    "\n",
    "    brewery_names.append(aa['data'][y]['name'])"
   ]
  },
  {
   "cell_type": "code",
   "execution_count": 5,
   "metadata": {},
   "outputs": [
    {
     "data": {
      "text/plain": [
       "['Anheuser-Busch InBev',\n",
       " 'Boston Beer Company (Samuel Adams)',\n",
       " 'Breckenridge Brewery',\n",
       " 'Brouwerij De Leite',\n",
       " 'Dock Street Brewery',\n",
       " 'Guinness',\n",
       " 'Harmon Brewing Company',\n",
       " 'Jackalope Brewing Company',\n",
       " 'Lagunitas Brewing Company',\n",
       " 'Last Name Brewing',\n",
       " 'Laughing Dog Brewing',\n",
       " 'Miller Brewing Company',\n",
       " 'New Holland Brewing Company',\n",
       " 'Oskar Blues Brewery',\n",
       " 'Portsmouth Brewery',\n",
       " 'Sierra Nevada Brewing Company',\n",
       " 'SweetWater Brewing Company',\n",
       " 'Wachusett Brewing Company',\n",
       " 'Zero Gravity Craft Brewery']"
      ]
     },
     "execution_count": 5,
     "metadata": {},
     "output_type": "execute_result"
    }
   ],
   "source": [
    "#Viewing contents of list\n",
    "brewery_names"
   ]
  },
  {
   "cell_type": "code",
   "execution_count": 13,
   "metadata": {},
   "outputs": [],
   "source": [
    "#converting lis to DataFrame\n",
    "brewery_names_df = pd.DataFrame(beer_names, columns=[\"Beer Names\"])"
   ]
  },
  {
   "cell_type": "code",
   "execution_count": null,
   "metadata": {},
   "outputs": [],
   "source": [
    "#Viewing DF contents\n",
    "brewery_names_df"
   ]
  },
  {
   "cell_type": "code",
   "execution_count": null,
   "metadata": {},
   "outputs": [],
   "source": []
  },
  {
   "cell_type": "code",
   "execution_count": null,
   "metadata": {},
   "outputs": [],
   "source": []
  }
 ],
 "metadata": {
  "kernelspec": {
   "display_name": "Python 3",
   "language": "python",
   "name": "python3"
  },
  "language_info": {
   "codemirror_mode": {
    "name": "ipython",
    "version": 3
   },
   "file_extension": ".py",
   "mimetype": "text/x-python",
   "name": "python",
   "nbconvert_exporter": "python",
   "pygments_lexer": "ipython3",
   "version": "3.6.8"
  }
 },
 "nbformat": 4,
 "nbformat_minor": 2
}
