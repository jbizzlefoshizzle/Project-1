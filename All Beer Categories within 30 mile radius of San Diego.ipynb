{
 "cells": [
  {
   "cell_type": "code",
   "execution_count": 2,
   "metadata": {},
   "outputs": [],
   "source": [
    "from brewerydb import *\n",
    "from config import api_key\n",
    "import requests"
   ]
  },
  {
   "cell_type": "code",
   "execution_count": 3,
   "metadata": {},
   "outputs": [],
   "source": [
    "BreweryDb.configure(api_key, DEFAULT_BASE_URI)"
   ]
  },
  {
   "cell_type": "code",
   "execution_count": 9,
   "metadata": {},
   "outputs": [],
   "source": [
    "sd_featured = BreweryDb.featured({'geo':1,\n",
    "                         'lat':32.7157,\n",
    "                         'lng':117.1611,\n",
    "                         'radius':30,\n",
    "                         'units':'m'})"
   ]
  },
  {
   "cell_type": "code",
   "execution_count": null,
   "metadata": {},
   "outputs": [],
   "source": []
  },
  {
   "cell_type": "code",
   "execution_count": 17,
   "metadata": {},
   "outputs": [
    {
     "name": "stdout",
     "output_type": "stream",
     "text": [
      "British Origin Ales\n",
      "Irish Origin Ales\n",
      "North American Origin Ales\n",
      "German Origin Ales\n",
      "Belgian And French Origin Ales\n",
      "International Ale Styles\n",
      "European-germanic Lager\n",
      "North American Lager\n",
      "Other Lager\n",
      "Other Lager\n",
      "Hybrid/mixed Beer\n",
      "Mead, Cider, & Perry\n",
      "Other Origin\n",
      "Malternative Beverages\n"
     ]
    }
   ],
   "source": [
    "print(sd_events['data'][0]['name'])\n",
    "print(sd_events['data'][1]['name'])\n",
    "print(sd_events['data'][2]['name'])\n",
    "print(sd_events['data'][3]['name'])\n",
    "print(sd_events['data'][4]['name'])\n",
    "print(sd_events['data'][5]['name'])\n",
    "print(sd_events['data'][6]['name'])\n",
    "print(sd_events['data'][7]['name'])\n",
    "print(sd_events['data'][8]['name'])\n",
    "print(sd_events['data'][8]['name'])\n",
    "print(sd_events['data'][10]['name'])\n",
    "print(sd_events['data'][11]['name'])\n",
    "print(sd_events['data'][12]['name'])\n",
    "print(sd_events['data'][13]['name'])"
   ]
  },
  {
   "cell_type": "code",
   "execution_count": null,
   "metadata": {},
   "outputs": [],
   "source": []
  }
 ],
 "metadata": {
  "kernelspec": {
   "display_name": "Python [conda env:PythonData2] *",
   "language": "python",
   "name": "conda-env-PythonData2-py"
  },
  "language_info": {
   "codemirror_mode": {
    "name": "ipython",
    "version": 3
   },
   "file_extension": ".py",
   "mimetype": "text/x-python",
   "name": "python",
   "nbconvert_exporter": "python",
   "pygments_lexer": "ipython3",
   "version": "3.6.8"
  }
 },
 "nbformat": 4,
 "nbformat_minor": 2
}
