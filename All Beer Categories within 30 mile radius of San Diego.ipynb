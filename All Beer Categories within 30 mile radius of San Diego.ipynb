{
 "cells": [
  {
   "cell_type": "code",
   "execution_count": 2,
   "metadata": {},
   "outputs": [],
   "source": [
    "from brewerydb import *\n",
    "from config import api_key\n",
    "import requests\n",
    "import pandas as pd"
   ]
  },
  {
   "cell_type": "code",
   "execution_count": 3,
   "metadata": {},
   "outputs": [],
   "source": [
    "BreweryDb.configure(api_key, DEFAULT_BASE_URI)"
   ]
  },
  {
   "cell_type": "code",
   "execution_count": 4,
   "metadata": {},
   "outputs": [],
   "source": [
    "sd_categories = BreweryDb.categories({'geo':1,\n",
    "                         'lat':32.7157,\n",
    "                         'lng':117.1611,\n",
    "                         'radius':30,\n",
    "                         'units':'m'})"
   ]
  },
  {
   "cell_type": "code",
   "execution_count": 17,
   "metadata": {},
   "outputs": [
    {
     "name": "stdout",
     "output_type": "stream",
     "text": [
      " printing beer category # 0 within 30 mile radius of SD\n",
      " printing beer category # 1 within 30 mile radius of SD\n",
      " printing beer category # 2 within 30 mile radius of SD\n",
      " printing beer category # 3 within 30 mile radius of SD\n",
      " printing beer category # 4 within 30 mile radius of SD\n",
      " printing beer category # 5 within 30 mile radius of SD\n",
      " printing beer category # 6 within 30 mile radius of SD\n",
      " printing beer category # 7 within 30 mile radius of SD\n",
      " printing beer category # 8 within 30 mile radius of SD\n",
      " printing beer category # 9 within 30 mile radius of SD\n",
      " printing beer category # 10 within 30 mile radius of SD\n",
      " printing beer category # 11 within 30 mile radius of SD\n",
      " printing beer category # 12 within 30 mile radius of SD\n",
      " printing beer category # 13 within 30 mile radius of SD\n",
      " printing beer category # 14 within 30 mile radius of SD\n",
      " printing beer category # 15 within 30 mile radius of SD\n"
     ]
    }
   ],
   "source": [
    "# looping through API call and appending beer categories to list\n",
    "beer_categories =[]\n",
    "for y in range(len(sd_categories[\"data\"])):\n",
    "    print(f\" printing beer category # {y} within 30 mile radius of SD\")\n",
    "    \n",
    "\n",
    "    beer_categories.append(sd_categories['data'][y]['name'])"
   ]
  },
  {
   "cell_type": "code",
   "execution_count": 18,
   "metadata": {},
   "outputs": [
    {
     "data": {
      "text/plain": [
       "['British Origin Ales',\n",
       " 'Irish Origin Ales',\n",
       " 'North American Origin Ales',\n",
       " 'German Origin Ales',\n",
       " 'Belgian And French Origin Ales',\n",
       " 'International Ale Styles',\n",
       " 'European-germanic Lager',\n",
       " 'North American Lager',\n",
       " 'Other Lager',\n",
       " 'International Styles',\n",
       " 'Hybrid/mixed Beer',\n",
       " 'Mead, Cider, & Perry',\n",
       " 'Other Origin',\n",
       " 'Malternative Beverages',\n",
       " 'test',\n",
       " '\"test\"']"
      ]
     },
     "execution_count": 18,
     "metadata": {},
     "output_type": "execute_result"
    }
   ],
   "source": [
    "#Viewing contents of list\n",
    "beer_categories"
   ]
  },
  {
   "cell_type": "code",
   "execution_count": 21,
   "metadata": {},
   "outputs": [],
   "source": [
    "#converting lis to DataFrame\n",
    "beer_categories_df = pd.DataFrame(beer_categories, columns=[\"Beer Categories\"])"
   ]
  },
  {
   "cell_type": "code",
   "execution_count": 22,
   "metadata": {},
   "outputs": [
    {
     "data": {
      "text/html": [
       "<div>\n",
       "<style scoped>\n",
       "    .dataframe tbody tr th:only-of-type {\n",
       "        vertical-align: middle;\n",
       "    }\n",
       "\n",
       "    .dataframe tbody tr th {\n",
       "        vertical-align: top;\n",
       "    }\n",
       "\n",
       "    .dataframe thead th {\n",
       "        text-align: right;\n",
       "    }\n",
       "</style>\n",
       "<table border=\"1\" class=\"dataframe\">\n",
       "  <thead>\n",
       "    <tr style=\"text-align: right;\">\n",
       "      <th></th>\n",
       "      <th>Beer Categories</th>\n",
       "    </tr>\n",
       "  </thead>\n",
       "  <tbody>\n",
       "    <tr>\n",
       "      <th>0</th>\n",
       "      <td>British Origin Ales</td>\n",
       "    </tr>\n",
       "    <tr>\n",
       "      <th>1</th>\n",
       "      <td>Irish Origin Ales</td>\n",
       "    </tr>\n",
       "    <tr>\n",
       "      <th>2</th>\n",
       "      <td>North American Origin Ales</td>\n",
       "    </tr>\n",
       "    <tr>\n",
       "      <th>3</th>\n",
       "      <td>German Origin Ales</td>\n",
       "    </tr>\n",
       "    <tr>\n",
       "      <th>4</th>\n",
       "      <td>Belgian And French Origin Ales</td>\n",
       "    </tr>\n",
       "    <tr>\n",
       "      <th>5</th>\n",
       "      <td>International Ale Styles</td>\n",
       "    </tr>\n",
       "    <tr>\n",
       "      <th>6</th>\n",
       "      <td>European-germanic Lager</td>\n",
       "    </tr>\n",
       "    <tr>\n",
       "      <th>7</th>\n",
       "      <td>North American Lager</td>\n",
       "    </tr>\n",
       "    <tr>\n",
       "      <th>8</th>\n",
       "      <td>Other Lager</td>\n",
       "    </tr>\n",
       "    <tr>\n",
       "      <th>9</th>\n",
       "      <td>International Styles</td>\n",
       "    </tr>\n",
       "    <tr>\n",
       "      <th>10</th>\n",
       "      <td>Hybrid/mixed Beer</td>\n",
       "    </tr>\n",
       "    <tr>\n",
       "      <th>11</th>\n",
       "      <td>Mead, Cider, &amp; Perry</td>\n",
       "    </tr>\n",
       "    <tr>\n",
       "      <th>12</th>\n",
       "      <td>Other Origin</td>\n",
       "    </tr>\n",
       "    <tr>\n",
       "      <th>13</th>\n",
       "      <td>Malternative Beverages</td>\n",
       "    </tr>\n",
       "    <tr>\n",
       "      <th>14</th>\n",
       "      <td>test</td>\n",
       "    </tr>\n",
       "    <tr>\n",
       "      <th>15</th>\n",
       "      <td>\"test\"</td>\n",
       "    </tr>\n",
       "  </tbody>\n",
       "</table>\n",
       "</div>"
      ],
      "text/plain": [
       "                   Beer Categories\n",
       "0              British Origin Ales\n",
       "1                Irish Origin Ales\n",
       "2       North American Origin Ales\n",
       "3               German Origin Ales\n",
       "4   Belgian And French Origin Ales\n",
       "5         International Ale Styles\n",
       "6          European-germanic Lager\n",
       "7             North American Lager\n",
       "8                      Other Lager\n",
       "9             International Styles\n",
       "10               Hybrid/mixed Beer\n",
       "11            Mead, Cider, & Perry\n",
       "12                    Other Origin\n",
       "13          Malternative Beverages\n",
       "14                            test\n",
       "15                          \"test\""
      ]
     },
     "execution_count": 22,
     "metadata": {},
     "output_type": "execute_result"
    }
   ],
   "source": [
    "#Viewing DF contents\n",
    "beer_categories_df"
   ]
  },
  {
   "cell_type": "code",
   "execution_count": null,
   "metadata": {},
   "outputs": [],
   "source": []
  }
 ],
 "metadata": {
  "kernelspec": {
   "display_name": "Python 3",
   "language": "python",
   "name": "python3"
  },
  "language_info": {
   "codemirror_mode": {
    "name": "ipython",
    "version": 3
   },
   "file_extension": ".py",
   "mimetype": "text/x-python",
   "name": "python",
   "nbconvert_exporter": "python",
   "pygments_lexer": "ipython3",
   "version": "3.6.8"
  }
 },
 "nbformat": 4,
 "nbformat_minor": 2
}
