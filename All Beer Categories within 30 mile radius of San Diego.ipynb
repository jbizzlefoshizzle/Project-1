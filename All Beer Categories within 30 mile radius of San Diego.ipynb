{
 "cells": [
  {
   "cell_type": "code",
   "execution_count": 19,
   "metadata": {},
   "outputs": [],
   "source": [
    "from brewerydb import *\n",
    "from config import api_key\n",
    "import requests"
   ]
  },
  {
   "cell_type": "code",
   "execution_count": 20,
   "metadata": {},
   "outputs": [],
   "source": [
    "BreweryDb.configure(api_key, DEFAULT_BASE_URI)"
   ]
  },
  {
   "cell_type": "code",
   "execution_count": 21,
   "metadata": {},
   "outputs": [],
   "source": [
    "sd_categories = BreweryDb.categories({'geo':1,\n",
    "                         'lat':32.7157,\n",
    "                         'lng':117.1611,\n",
    "                         'radius':30,\n",
    "                         'units':'m'})"
   ]
  },
  {
   "cell_type": "code",
   "execution_count": 22,
   "metadata": {},
   "outputs": [
    {
     "data": {
      "text/plain": [
       "{'message': 'READ ONLY MODE: Request Successful',\n",
       " 'data': [{'id': 1,\n",
       "   'name': 'British Origin Ales',\n",
       "   'createDate': '2012-03-21 20:06:45'},\n",
       "  {'id': 2, 'name': 'Irish Origin Ales', 'createDate': '2012-03-21 20:06:45'},\n",
       "  {'id': 3,\n",
       "   'name': 'North American Origin Ales',\n",
       "   'createDate': '2012-03-21 20:06:45'},\n",
       "  {'id': 4, 'name': 'German Origin Ales', 'createDate': '2012-03-21 20:06:46'},\n",
       "  {'id': 5,\n",
       "   'name': 'Belgian And French Origin Ales',\n",
       "   'createDate': '2012-03-21 20:06:46'},\n",
       "  {'id': 6,\n",
       "   'name': 'International Ale Styles',\n",
       "   'createDate': '2012-03-21 20:06:46'},\n",
       "  {'id': 7,\n",
       "   'name': 'European-germanic Lager',\n",
       "   'createDate': '2012-03-21 20:06:46'},\n",
       "  {'id': 8,\n",
       "   'name': 'North American Lager',\n",
       "   'createDate': '2012-03-21 20:06:46'},\n",
       "  {'id': 9, 'name': 'Other Lager', 'createDate': '2012-03-21 20:06:46'},\n",
       "  {'id': 10,\n",
       "   'name': 'International Styles',\n",
       "   'createDate': '2012-03-21 20:06:46'},\n",
       "  {'id': 11, 'name': 'Hybrid/mixed Beer', 'createDate': '2012-03-21 20:06:46'},\n",
       "  {'id': 12,\n",
       "   'name': 'Mead, Cider, & Perry',\n",
       "   'createDate': '2012-03-21 20:06:46'},\n",
       "  {'id': 13, 'name': 'Other Origin', 'createDate': '2013-08-10 12:44:20'},\n",
       "  {'id': 14,\n",
       "   'name': 'Malternative Beverages',\n",
       "   'description': 'Malternative Beverages, also known as \"ready-to-drink\" beverages, are sweet, sometime carbonated, beverages that are low in alcohol.',\n",
       "   'createDate': '2014-07-10 14:11:26',\n",
       "   'updateDate': '2014-07-10 14:20:24'},\n",
       "  {'id': 16, 'name': 'test', 'createDate': '2019-03-29 19:46:38'},\n",
       "  {'id': 17, 'name': '\"test\"', 'createDate': '2019-03-29 19:57:16'}],\n",
       " 'status': 'success'}"
      ]
     },
     "execution_count": 22,
     "metadata": {},
     "output_type": "execute_result"
    }
   ],
   "source": [
    "sd_categories"
   ]
  },
  {
   "cell_type": "code",
   "execution_count": 25,
   "metadata": {},
   "outputs": [
    {
     "name": "stdout",
     "output_type": "stream",
     "text": [
      "British Origin Ales\n",
      "Irish Origin Ales\n",
      "North American Origin Ales\n",
      "German Origin Ales\n",
      "Belgian And French Origin Ales\n",
      "International Ale Styles\n",
      "European-germanic Lager\n",
      "North American Lager\n",
      "Other Lager\n",
      "Other Lager\n",
      "Hybrid/mixed Beer\n",
      "Mead, Cider, & Perry\n",
      "Other Origin\n",
      "Malternative Beverages\n"
     ]
    }
   ],
   "source": [
    "print(sd_categories['data'][0]['name'])\n",
    "print(sd_categories['data'][1]['name'])\n",
    "print(sd_categories['data'][2]['name'])\n",
    "print(sd_categories['data'][3]['name'])\n",
    "print(sd_categories['data'][4]['name'])\n",
    "print(sd_categories['data'][5]['name'])\n",
    "print(sd_categories['data'][6]['name'])\n",
    "print(sd_categories['data'][7]['name'])\n",
    "print(sd_categories['data'][8]['name'])\n",
    "print(sd_categories['data'][8]['name'])\n",
    "print(sd_categories['data'][10]['name'])\n",
    "print(sd_categories['data'][11]['name'])\n",
    "print(sd_categories['data'][12]['name'])\n",
    "print(sd_categories['data'][13]['name'])"
   ]
  },
  {
   "cell_type": "code",
   "execution_count": null,
   "metadata": {},
   "outputs": [],
   "source": []
  }
 ],
 "metadata": {
  "kernelspec": {
   "display_name": "Python [conda env:PythonData2] *",
   "language": "python",
   "name": "conda-env-PythonData2-py"
  },
  "language_info": {
   "codemirror_mode": {
    "name": "ipython",
    "version": 3
   },
   "file_extension": ".py",
   "mimetype": "text/x-python",
   "name": "python",
   "nbconvert_exporter": "python",
   "pygments_lexer": "ipython3",
   "version": "3.6.8"
  }
 },
 "nbformat": 4,
 "nbformat_minor": 2
}
