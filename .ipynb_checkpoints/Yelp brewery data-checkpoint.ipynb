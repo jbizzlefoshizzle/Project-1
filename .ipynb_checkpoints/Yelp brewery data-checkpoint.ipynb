{
 "cells": [
  {
   "cell_type": "code",
   "execution_count": 1,
   "metadata": {},
   "outputs": [
    {
     "ename": "ModuleNotFoundError",
     "evalue": "No module named 'config2'",
     "output_type": "error",
     "traceback": [
      "\u001b[1;31m---------------------------------------------------------------------------\u001b[0m",
      "\u001b[1;31mModuleNotFoundError\u001b[0m                       Traceback (most recent call last)",
      "\u001b[1;32m<ipython-input-1-d7b23eabd8c0>\u001b[0m in \u001b[0;36m<module>\u001b[1;34m\u001b[0m\n\u001b[0;32m      2\u001b[0m \u001b[1;32mimport\u001b[0m \u001b[0mjson\u001b[0m\u001b[1;33m\u001b[0m\u001b[1;33m\u001b[0m\u001b[0m\n\u001b[0;32m      3\u001b[0m \u001b[1;32mimport\u001b[0m \u001b[0mpandas\u001b[0m \u001b[1;32mas\u001b[0m \u001b[0mpd\u001b[0m\u001b[1;33m\u001b[0m\u001b[1;33m\u001b[0m\u001b[0m\n\u001b[1;32m----> 4\u001b[1;33m \u001b[1;32mfrom\u001b[0m \u001b[0mconfig2\u001b[0m \u001b[1;32mimport\u001b[0m \u001b[0mapi_key\u001b[0m\u001b[1;33m\u001b[0m\u001b[1;33m\u001b[0m\u001b[0m\n\u001b[0m\u001b[0;32m      5\u001b[0m \u001b[1;32mfrom\u001b[0m \u001b[0mconfig2\u001b[0m \u001b[1;32mimport\u001b[0m \u001b[0mgkey\u001b[0m\u001b[1;33m\u001b[0m\u001b[1;33m\u001b[0m\u001b[0m\n\u001b[0;32m      6\u001b[0m \u001b[1;32mimport\u001b[0m \u001b[0mcsv\u001b[0m\u001b[1;33m\u001b[0m\u001b[1;33m\u001b[0m\u001b[0m\n",
      "\u001b[1;31mModuleNotFoundError\u001b[0m: No module named 'config2'"
     ]
    }
   ],
   "source": [
    "import requests\n",
    "import json\n",
    "import pandas as pd\n",
    "from config2 import api_key\n",
    "from config2 import gkey\n",
    "import csv\n",
    "import gmaps"
   ]
  },
  {
   "cell_type": "code",
   "execution_count": null,
   "metadata": {},
   "outputs": [],
   "source": [
    "gmaps.configure(api_key=gkey)"
   ]
  },
  {
   "cell_type": "code",
   "execution_count": null,
   "metadata": {},
   "outputs": [],
   "source": [
    "beer_csv = pd.read_csv(\"addresses2.csv\", delimiter=\",\")\n",
    "beer_csv_df=pd.DataFrame(beer_csv)\n",
    "beer_csv_df.head(1)"
   ]
  },
  {
   "cell_type": "code",
   "execution_count": null,
   "metadata": {},
   "outputs": [],
   "source": [
    "biz_name = beer_csv_df[\"Name\"]\n",
    "addr = beer_csv_df[\"Address\"]\n",
    "city = beer_csv_df[\"City\"]\n",
    "addy = addr.values.tolist()\n",
    "biz = biz_name.values.tolist()\n",
    "cities = city.values.tolist()\n",
    "len(cities)"
   ]
  },
  {
   "cell_type": "code",
   "execution_count": null,
   "metadata": {},
   "outputs": [],
   "source": [
    "# for index, row in beer_csv_df.iterrows():\n",
    "#     biz, addy = row['Name'], row['Address']\n",
    "#     print(a)"
   ]
  },
  {
   "cell_type": "code",
   "execution_count": null,
   "metadata": {},
   "outputs": [],
   "source": [
    "ids = []\n",
    "name = []\n",
    "address = []\n",
    "lat = []\n",
    "lng = []\n",
    "rating = []\n",
    "review = []\n",
    "x = -1\n",
    "addy \n",
    "biz\n",
    "\n",
    "skippedb = []\n",
    "skippeda = []\n",
    "for b, a, c in zip(biz, addy, cities):\n",
    "    x += 1\n",
    "    print(f\"printing {b} || {x} of {len(biz)} \")\n",
    "# for b, a, in beer_csv_df.iterrows():\n",
    "    headers = {'Authorization': 'Bearer %s' % api_key}\n",
    "    params = {'name':b,'address1':a,'city':c, 'state':'Ca', 'country':'US'}\n",
    "    url = \"https://api.yelp.com/v3/businesses/matches\"\n",
    "    try:\n",
    "        response = requests.get(url, headers=headers, params=params)\n",
    "        response_json = response.json()\n",
    "        response_json\n",
    "        idz = response_json[\"businesses\"][0][\"id\"]\n",
    "        addresses = response_json[\"businesses\"][0][\"location\"][\"address1\"]\n",
    "        lats = response_json[\"businesses\"][0][\"coordinates\"][\"latitude\"]\n",
    "        lngs = response_json[\"businesses\"][0][\"coordinates\"][\"longitude\"]\n",
    "        names = response_json[\"businesses\"][0][\"name\"]\n",
    "        name.append(names)\n",
    "        address.append(addresses)\n",
    "        lat.append(lats)\n",
    "        lng.append(lngs)\n",
    "        ids.append(idz)\n",
    "    except:\n",
    "        skippedb.append(b)\n",
    "        skippeda.append(a)\n",
    "        print('Skipping:', b)\n",
    "        continue\n",
    "\n",
    "for b, a, c, i, in zip(biz, addy, cities, ids):\n",
    "    params = {'name':b,'address1':a,'city':c, 'state':'Ca', 'country':'US'}\n",
    "    url = \"https://api.yelp.com/v3/businesses/\"\n",
    "    response = requests.get(url + i, headers=headers, params=params)\n",
    "    response_json = response.json()\n",
    "    ratings = response_json[\"rating\"]\n",
    "    reviews = response_json[\"review_count\"]\n",
    "    review.append(reviews)\n",
    "    rating.append(ratings)\n",
    "        "
   ]
  },
  {
   "cell_type": "code",
   "execution_count": null,
   "metadata": {},
   "outputs": [],
   "source": [
    "skippedb"
   ]
  },
  {
   "cell_type": "code",
   "execution_count": null,
   "metadata": {},
   "outputs": [],
   "source": [
    "yelp_brew_dict = {\"Name\":name, \"Review Count\":review, \"Rating\":rating}\n",
    "yelp_brew_df = pd.DataFrame(yelp_brew_dict)\n",
    "yelp_brew_df[\"Lat\"] = lat\n",
    "yelp_brew_df[\"lng\"] = lng\n",
    "yelp_brew_df.head(2)"
   ]
  },
  {
   "cell_type": "code",
   "execution_count": null,
   "metadata": {},
   "outputs": [],
   "source": [
    "lat_list = yelp_brew_df[\"Lat\"].tolist()\n",
    "lng_list = yelp_brew_df[\"lng\"].tolist()\n",
    "rat_list = yelp_brew_df[\"Rating\"].astype(float)\n",
    "coordinates = list(zip(lat_list, lng_list))\n",
    "locations = yelp_brew_df[[\"Lat\", \"lng\"]].astype(float)\n",
    "brew_name = yelp_brew_df[\"Name\"].tolist()"
   ]
  },
  {
   "cell_type": "code",
   "execution_count": null,
   "metadata": {},
   "outputs": [],
   "source": [
    "locations\n",
    "figure_layout = {'width': '900px',\n",
    "                 'height': '500px',\n",
    "                 'border': '1px solid black',\n",
    "                 'padding': '1px',\n",
    "                 'margin': '0 auto 0 auto',\n",
    "                 'Bold':True\n",
    "                }\n",
    "fig = gmaps.figure(layout=figure_layout)\n",
    "markers = gmaps.marker_layer(coordinates, \n",
    "                             hover_text=[f\"{brew} \\n Rating:{rating}\" for brew, rating in zip(brew_name, rat_list)], \n",
    "                             label='', \n",
    "                             info_box_content=[f\"Brewery Rating: {rating}\" for rating in rat_list], \n",
    "                             display_info_box=None\n",
    "                            )\n",
    "symbol_layer.markers[0].scale = 5\n",
    "fig.add_layer(markers)\n",
    "#_____________________________\n",
    "\n",
    "fig\n",
    "#__________________________________"
   ]
  },
  {
   "cell_type": "code",
   "execution_count": null,
   "metadata": {},
   "outputs": [],
   "source": [
    "# brewery_layer = gmaps.symbol_layer(\n",
    "#     locations, fill_color='red',\n",
    "#     stroke_color='red', scale=2,\n",
    "#     info_box_content=[f\"Brewery Name: {brewery}\" for brewery in brew_name]\n",
    "# )\n",
    "\n",
    "\n",
    "# fig = gmaps.figure()\n",
    "# fig.add_layer(brewery_layer)\n",
    "# fig"
   ]
  },
  {
   "cell_type": "code",
   "execution_count": null,
   "metadata": {},
   "outputs": [],
   "source": [
    "a = -1\n",
    "rating = []\n",
    "review = []\n",
    "test = []\n",
    "for x, c in zip(biz, cities):\n",
    "    a += 1\n",
    "    params = {'term':x, 'city':c, \"location\":\"CA\"}\n",
    "    url = \"https://api.yelp.com/v3/businesses/search\"\n",
    "    response = requests.get(url, headers=headers, params=params)\n",
    "    response_json = response.json()\n",
    "#     cit = response_json[\"businesses\"][0][\"location\"][\"city\"]\n",
    "#     test.append(cit)\n",
    "\n",
    "#     review.append(reviews)\n",
    "#     rating.append(ratings)\n",
    "# review\n",
    "\n",
    "    response_json"
   ]
  },
  {
   "cell_type": "code",
   "execution_count": null,
   "metadata": {},
   "outputs": [],
   "source": []
  },
  {
   "cell_type": "code",
   "execution_count": null,
   "metadata": {},
   "outputs": [],
   "source": []
  }
 ],
 "metadata": {
  "kernelspec": {
   "display_name": "Python 3",
   "language": "python",
   "name": "python3"
  },
  "language_info": {
   "codemirror_mode": {
    "name": "ipython",
    "version": 3
   },
   "file_extension": ".py",
   "mimetype": "text/x-python",
   "name": "python",
   "nbconvert_exporter": "python",
   "pygments_lexer": "ipython3",
   "version": "3.6.8"
  }
 },
 "nbformat": 4,
 "nbformat_minor": 2
}
