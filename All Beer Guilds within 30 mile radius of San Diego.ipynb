{
 "cells": [
  {
   "cell_type": "code",
   "execution_count": 1,
   "metadata": {},
   "outputs": [],
   "source": [
    "from brewerydb import *\n",
    "from config import api_key\n",
    "import requests"
   ]
  },
  {
   "cell_type": "code",
   "execution_count": 2,
   "metadata": {},
   "outputs": [],
   "source": [
    "BreweryDb.configure(api_key, DEFAULT_BASE_URI)"
   ]
  },
  {
   "cell_type": "code",
   "execution_count": 3,
   "metadata": {},
   "outputs": [],
   "source": [
    "aa = BreweryDb.guilds({'geo':1,\n",
    "                         'lat':32.7157,\n",
    "                         'lng':117.1611,\n",
    "                         'radius':30,\n",
    "                         'units':'m'})"
   ]
  },
  {
   "cell_type": "code",
   "execution_count": 6,
   "metadata": {},
   "outputs": [
    {
     "name": "stdout",
     "output_type": "stream",
     "text": [
      "Brewers Association\n",
      "Georgia Craft Brewers Guild\n",
      "Inland Southern California Brewer's Guild\n",
      "Mass Brewers Guild\n",
      "Michigan Brewers Guild\n",
      "New York State Brewers Association\n",
      "Vermont Brewers Association\n"
     ]
    }
   ],
   "source": [
    "print(aa['data'][0]['name'])\n",
    "print(aa['data'][1]['name'])\n",
    "print(aa['data'][2]['name'])\n",
    "print(aa['data'][3]['name'])\n",
    "print(aa['data'][4]['name'])\n",
    "print(aa['data'][5]['name'])\n",
    "print(aa['data'][6]['name'])"
   ]
  },
  {
   "cell_type": "code",
   "execution_count": null,
   "metadata": {},
   "outputs": [],
   "source": []
  }
 ],
 "metadata": {
  "kernelspec": {
   "display_name": "Python [conda env:PythonData2] *",
   "language": "python",
   "name": "conda-env-PythonData2-py"
  },
  "language_info": {
   "codemirror_mode": {
    "name": "ipython",
    "version": 3
   },
   "file_extension": ".py",
   "mimetype": "text/x-python",
   "name": "python",
   "nbconvert_exporter": "python",
   "pygments_lexer": "ipython3",
   "version": "3.6.8"
  }
 },
 "nbformat": 4,
 "nbformat_minor": 2
}
